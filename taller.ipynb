{
  "nbformat": 4,
  "nbformat_minor": 0,
  "metadata": {
    "colab": {
      "provenance": [],
      "authorship_tag": "ABX9TyMQerWXINlvaqbknjunkb3S",
      "include_colab_link": true
    },
    "kernelspec": {
      "name": "python3",
      "display_name": "Python 3"
    },
    "language_info": {
      "name": "python"
    }
  },
  "cells": [
    {
      "cell_type": "markdown",
      "metadata": {
        "id": "view-in-github",
        "colab_type": "text"
      },
      "source": [
        "<a href=\"https://colab.research.google.com/github/MiltonStivenPinzon1223/API/blob/main/taller.ipynb\" target=\"_parent\"><img src=\"https://colab.research.google.com/assets/colab-badge.svg\" alt=\"Open In Colab\"/></a>"
      ]
    },
    {
      "cell_type": "code",
      "execution_count": null,
      "metadata": {
        "id": "tIsUkJMk7RBX",
        "colab": {
          "base_uri": "https://localhost:8080/",
          "height": 35
        },
        "outputId": "2282e563-4c05-43c3-8c33-20b6000c67d5"
      },
      "outputs": [
        {
          "output_type": "execute_result",
          "data": {
            "text/plain": [
              "'Datos convertidos'"
            ],
            "application/vnd.google.colaboratory.intrinsic+json": {
              "type": "string"
            }
          },
          "metadata": {},
          "execution_count": 56
        }
      ],
      "source": [
        "import json\n",
        "import random\n",
        "\n",
        "class Paciente:\n",
        "    def _init_(self, identification_number, name, lastname):\n",
        "        self.identification_number = identification_number\n",
        "        self.name = name\n",
        "        self.lastname = lastname\n",
        "\n",
        "    def saludar(self):\n",
        "        return \"Hola\"\n",
        "\n",
        "    def leer(self):\n",
        "\n",
        "        with open('/content/json1.1.json', 'r') as file:\n",
        "            lineas = json.load(file)\n",
        "            newdata = []\n",
        "            for linea in lineas:\n",
        "              cont = 1\n",
        "              digitos = list(str(linea['identification_number']))\n",
        "              random.shuffle(digitos)\n",
        "              newnumero = int(''.join(digitos))\n",
        "              newname = \"Anonimo\" + str(newnumero)\n",
        "              datos = {\"identification_number\":linea['identification_number'], \"name\":newname,\"lastname\":newname}\n",
        "              newdata.append(datos)\n",
        "            with open('/content/json1.2.json', 'w') as file2:\n",
        "                json_data = json.dump(newdata,file2,indent=4)\n",
        "            return \"Datos convertidos\"\n",
        "\n",
        "\n",
        "paciente = Paciente()\n",
        "paciente.leer()"
      ]
    }
  ]
}